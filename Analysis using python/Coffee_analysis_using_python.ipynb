{
 "cells": [
  {
   "cell_type": "markdown",
   "metadata": {},
   "source": [
    "## COFFEE SHOP SALES ANALYSIS USING POLARS \n",
    "\n",
    "In this notebook we explore some functionality of the polars Data manipulation library "
   ]
  },
  {
   "cell_type": "markdown",
   "metadata": {},
   "source": [
    "### imports necessary "
   ]
  },
  {
   "cell_type": "code",
   "execution_count": 23,
   "metadata": {},
   "outputs": [],
   "source": [
    "# imports  \n",
    "# Dont forget to pip install polars if its not already installed on your machine.. you can install it\n",
    "# by opening you terminal of choice and running \"python -m pip install polars\"\n",
    "import polars as pl \n",
    "from polars import col\n"
   ]
  },
  {
   "cell_type": "markdown",
   "metadata": {},
   "source": [
    "### Loading in the Data"
   ]
  },
  {
   "cell_type": "code",
   "execution_count": 24,
   "metadata": {},
   "outputs": [],
   "source": [
    "# Read data from file \n",
    "df = pl.read_excel(r\"Coffee Shop Sales.xlsx\") # replace this with your the location of your file."
   ]
  },
  {
   "cell_type": "markdown",
   "metadata": {},
   "source": [
    "### Size in memory check "
   ]
  },
  {
   "cell_type": "code",
   "execution_count": 25,
   "metadata": {},
   "outputs": [
    {
     "data": {
      "text/plain": [
       "14.6604642868042"
      ]
     },
     "execution_count": 25,
     "metadata": {},
     "output_type": "execute_result"
    }
   ],
   "source": [
    "# data frame size in memory \n",
    "df.estimated_size(\"megabytes\") "
   ]
  },
  {
   "cell_type": "markdown",
   "metadata": {},
   "source": [
    "### Viewing top of the data "
   ]
  },
  {
   "cell_type": "code",
   "execution_count": 26,
   "metadata": {},
   "outputs": [
    {
     "data": {
      "text/html": [
       "<div><style>\n",
       ".dataframe > thead > tr,\n",
       ".dataframe > tbody > tr {\n",
       "  text-align: right;\n",
       "  white-space: pre-wrap;\n",
       "}\n",
       "</style>\n",
       "<small>shape: (5, 11)</small><table border=\"1\" class=\"dataframe\"><thead><tr><th>transaction_id</th><th>transaction_date</th><th>transaction_time</th><th>transaction_qty</th><th>store_id</th><th>store_location</th><th>product_id</th><th>unit_price</th><th>product_category</th><th>product_type</th><th>product_detail</th></tr><tr><td>i64</td><td>date</td><td>datetime[ms]</td><td>i64</td><td>i64</td><td>str</td><td>i64</td><td>f64</td><td>str</td><td>str</td><td>str</td></tr></thead><tbody><tr><td>1</td><td>2023-01-01</td><td>1899-12-31 07:06:11</td><td>2</td><td>5</td><td>&quot;Lower Manhattan&quot;</td><td>32</td><td>3.0</td><td>&quot;Coffee&quot;</td><td>&quot;Gourmet brewed coffee&quot;</td><td>&quot;Ethiopia Rg&quot;</td></tr><tr><td>2</td><td>2023-01-01</td><td>1899-12-31 07:08:56</td><td>2</td><td>5</td><td>&quot;Lower Manhattan&quot;</td><td>57</td><td>3.1</td><td>&quot;Tea&quot;</td><td>&quot;Brewed Chai tea&quot;</td><td>&quot;Spicy Eye Opener Chai Lg&quot;</td></tr><tr><td>3</td><td>2023-01-01</td><td>1899-12-31 07:14:04</td><td>2</td><td>5</td><td>&quot;Lower Manhattan&quot;</td><td>59</td><td>4.5</td><td>&quot;Drinking Chocolate&quot;</td><td>&quot;Hot chocolate&quot;</td><td>&quot;Dark chocolate Lg&quot;</td></tr><tr><td>4</td><td>2023-01-01</td><td>1899-12-31 07:20:24</td><td>1</td><td>5</td><td>&quot;Lower Manhattan&quot;</td><td>22</td><td>2.0</td><td>&quot;Coffee&quot;</td><td>&quot;Drip coffee&quot;</td><td>&quot;Our Old Time Diner Blend Sm&quot;</td></tr><tr><td>5</td><td>2023-01-01</td><td>1899-12-31 07:22:41</td><td>2</td><td>5</td><td>&quot;Lower Manhattan&quot;</td><td>57</td><td>3.1</td><td>&quot;Tea&quot;</td><td>&quot;Brewed Chai tea&quot;</td><td>&quot;Spicy Eye Opener Chai Lg&quot;</td></tr></tbody></table></div>"
      ],
      "text/plain": [
       "shape: (5, 11)\n",
       "┌───────────┬───────────┬───────────┬───────────┬───┬───────────┬───────────┬───────────┬──────────┐\n",
       "│ transacti ┆ transacti ┆ transacti ┆ transacti ┆ … ┆ unit_pric ┆ product_c ┆ product_t ┆ product_ │\n",
       "│ on_id     ┆ on_date   ┆ on_time   ┆ on_qty    ┆   ┆ e         ┆ ategory   ┆ ype       ┆ detail   │\n",
       "│ ---       ┆ ---       ┆ ---       ┆ ---       ┆   ┆ ---       ┆ ---       ┆ ---       ┆ ---      │\n",
       "│ i64       ┆ date      ┆ datetime[ ┆ i64       ┆   ┆ f64       ┆ str       ┆ str       ┆ str      │\n",
       "│           ┆           ┆ ms]       ┆           ┆   ┆           ┆           ┆           ┆          │\n",
       "╞═══════════╪═══════════╪═══════════╪═══════════╪═══╪═══════════╪═══════════╪═══════════╪══════════╡\n",
       "│ 1         ┆ 2023-01-0 ┆ 1899-12-3 ┆ 2         ┆ … ┆ 3.0       ┆ Coffee    ┆ Gourmet   ┆ Ethiopia │\n",
       "│           ┆ 1         ┆ 1         ┆           ┆   ┆           ┆           ┆ brewed    ┆ Rg       │\n",
       "│           ┆           ┆ 07:06:11  ┆           ┆   ┆           ┆           ┆ coffee    ┆          │\n",
       "│ 2         ┆ 2023-01-0 ┆ 1899-12-3 ┆ 2         ┆ … ┆ 3.1       ┆ Tea       ┆ Brewed    ┆ Spicy    │\n",
       "│           ┆ 1         ┆ 1         ┆           ┆   ┆           ┆           ┆ Chai tea  ┆ Eye      │\n",
       "│           ┆           ┆ 07:08:56  ┆           ┆   ┆           ┆           ┆           ┆ Opener   │\n",
       "│           ┆           ┆           ┆           ┆   ┆           ┆           ┆           ┆ Chai Lg  │\n",
       "│ 3         ┆ 2023-01-0 ┆ 1899-12-3 ┆ 2         ┆ … ┆ 4.5       ┆ Drinking  ┆ Hot       ┆ Dark cho │\n",
       "│           ┆ 1         ┆ 1         ┆           ┆   ┆           ┆ Chocolate ┆ chocolate ┆ colate   │\n",
       "│           ┆           ┆ 07:14:04  ┆           ┆   ┆           ┆           ┆           ┆ Lg       │\n",
       "│ 4         ┆ 2023-01-0 ┆ 1899-12-3 ┆ 1         ┆ … ┆ 2.0       ┆ Coffee    ┆ Drip      ┆ Our Old  │\n",
       "│           ┆ 1         ┆ 1         ┆           ┆   ┆           ┆           ┆ coffee    ┆ Time     │\n",
       "│           ┆           ┆ 07:20:24  ┆           ┆   ┆           ┆           ┆           ┆ Diner    │\n",
       "│           ┆           ┆           ┆           ┆   ┆           ┆           ┆           ┆ Blend Sm │\n",
       "│ 5         ┆ 2023-01-0 ┆ 1899-12-3 ┆ 2         ┆ … ┆ 3.1       ┆ Tea       ┆ Brewed    ┆ Spicy    │\n",
       "│           ┆ 1         ┆ 1         ┆           ┆   ┆           ┆           ┆ Chai tea  ┆ Eye      │\n",
       "│           ┆           ┆ 07:22:41  ┆           ┆   ┆           ┆           ┆           ┆ Opener   │\n",
       "│           ┆           ┆           ┆           ┆   ┆           ┆           ┆           ┆ Chai Lg  │\n",
       "└───────────┴───────────┴───────────┴───────────┴───┴───────────┴───────────┴───────────┴──────────┘"
      ]
     },
     "execution_count": 26,
     "metadata": {},
     "output_type": "execute_result"
    }
   ],
   "source": [
    "# view of the first five top entries of the dataset \n",
    "df.head()"
   ]
  },
  {
   "cell_type": "markdown",
   "metadata": {},
   "source": [
    "### viewing bottom of the data "
   ]
  },
  {
   "cell_type": "code",
   "execution_count": 27,
   "metadata": {},
   "outputs": [
    {
     "data": {
      "text/html": [
       "<div><style>\n",
       ".dataframe > thead > tr,\n",
       ".dataframe > tbody > tr {\n",
       "  text-align: right;\n",
       "  white-space: pre-wrap;\n",
       "}\n",
       "</style>\n",
       "<small>shape: (5, 11)</small><table border=\"1\" class=\"dataframe\"><thead><tr><th>transaction_id</th><th>transaction_date</th><th>transaction_time</th><th>transaction_qty</th><th>store_id</th><th>store_location</th><th>product_id</th><th>unit_price</th><th>product_category</th><th>product_type</th><th>product_detail</th></tr><tr><td>i64</td><td>date</td><td>datetime[ms]</td><td>i64</td><td>i64</td><td>str</td><td>i64</td><td>f64</td><td>str</td><td>str</td><td>str</td></tr></thead><tbody><tr><td>149452</td><td>2023-06-30</td><td>1899-12-31 20:18:41</td><td>2</td><td>8</td><td>&quot;Hell&#x27;s Kitchen&quot;</td><td>44</td><td>2.5</td><td>&quot;Tea&quot;</td><td>&quot;Brewed herbal tea&quot;</td><td>&quot;Peppermint Rg&quot;</td></tr><tr><td>149453</td><td>2023-06-30</td><td>1899-12-31 20:25:10</td><td>2</td><td>8</td><td>&quot;Hell&#x27;s Kitchen&quot;</td><td>49</td><td>3.0</td><td>&quot;Tea&quot;</td><td>&quot;Brewed Black tea&quot;</td><td>&quot;English Breakfast Lg&quot;</td></tr><tr><td>149454</td><td>2023-06-30</td><td>1899-12-31 20:31:34</td><td>1</td><td>8</td><td>&quot;Hell&#x27;s Kitchen&quot;</td><td>45</td><td>3.0</td><td>&quot;Tea&quot;</td><td>&quot;Brewed herbal tea&quot;</td><td>&quot;Peppermint Lg&quot;</td></tr><tr><td>149455</td><td>2023-06-30</td><td>1899-12-31 20:57:19</td><td>1</td><td>8</td><td>&quot;Hell&#x27;s Kitchen&quot;</td><td>40</td><td>3.75</td><td>&quot;Coffee&quot;</td><td>&quot;Barista Espresso&quot;</td><td>&quot;Cappuccino&quot;</td></tr><tr><td>149456</td><td>2023-06-30</td><td>1899-12-31 20:57:19</td><td>2</td><td>8</td><td>&quot;Hell&#x27;s Kitchen&quot;</td><td>64</td><td>0.8</td><td>&quot;Flavours&quot;</td><td>&quot;Regular syrup&quot;</td><td>&quot;Hazelnut syrup&quot;</td></tr></tbody></table></div>"
      ],
      "text/plain": [
       "shape: (5, 11)\n",
       "┌───────────┬───────────┬───────────┬───────────┬───┬───────────┬───────────┬───────────┬──────────┐\n",
       "│ transacti ┆ transacti ┆ transacti ┆ transacti ┆ … ┆ unit_pric ┆ product_c ┆ product_t ┆ product_ │\n",
       "│ on_id     ┆ on_date   ┆ on_time   ┆ on_qty    ┆   ┆ e         ┆ ategory   ┆ ype       ┆ detail   │\n",
       "│ ---       ┆ ---       ┆ ---       ┆ ---       ┆   ┆ ---       ┆ ---       ┆ ---       ┆ ---      │\n",
       "│ i64       ┆ date      ┆ datetime[ ┆ i64       ┆   ┆ f64       ┆ str       ┆ str       ┆ str      │\n",
       "│           ┆           ┆ ms]       ┆           ┆   ┆           ┆           ┆           ┆          │\n",
       "╞═══════════╪═══════════╪═══════════╪═══════════╪═══╪═══════════╪═══════════╪═══════════╪══════════╡\n",
       "│ 149452    ┆ 2023-06-3 ┆ 1899-12-3 ┆ 2         ┆ … ┆ 2.5       ┆ Tea       ┆ Brewed    ┆ Peppermi │\n",
       "│           ┆ 0         ┆ 1         ┆           ┆   ┆           ┆           ┆ herbal    ┆ nt Rg    │\n",
       "│           ┆           ┆ 20:18:41  ┆           ┆   ┆           ┆           ┆ tea       ┆          │\n",
       "│ 149453    ┆ 2023-06-3 ┆ 1899-12-3 ┆ 2         ┆ … ┆ 3.0       ┆ Tea       ┆ Brewed    ┆ English  │\n",
       "│           ┆ 0         ┆ 1         ┆           ┆   ┆           ┆           ┆ Black tea ┆ Breakfas │\n",
       "│           ┆           ┆ 20:25:10  ┆           ┆   ┆           ┆           ┆           ┆ t Lg     │\n",
       "│ 149454    ┆ 2023-06-3 ┆ 1899-12-3 ┆ 1         ┆ … ┆ 3.0       ┆ Tea       ┆ Brewed    ┆ Peppermi │\n",
       "│           ┆ 0         ┆ 1         ┆           ┆   ┆           ┆           ┆ herbal    ┆ nt Lg    │\n",
       "│           ┆           ┆ 20:31:34  ┆           ┆   ┆           ┆           ┆ tea       ┆          │\n",
       "│ 149455    ┆ 2023-06-3 ┆ 1899-12-3 ┆ 1         ┆ … ┆ 3.75      ┆ Coffee    ┆ Barista   ┆ Cappucci │\n",
       "│           ┆ 0         ┆ 1         ┆           ┆   ┆           ┆           ┆ Espresso  ┆ no       │\n",
       "│           ┆           ┆ 20:57:19  ┆           ┆   ┆           ┆           ┆           ┆          │\n",
       "│ 149456    ┆ 2023-06-3 ┆ 1899-12-3 ┆ 2         ┆ … ┆ 0.8       ┆ Flavours  ┆ Regular   ┆ Hazelnut │\n",
       "│           ┆ 0         ┆ 1         ┆           ┆   ┆           ┆           ┆ syrup     ┆ syrup    │\n",
       "│           ┆           ┆ 20:57:19  ┆           ┆   ┆           ┆           ┆           ┆          │\n",
       "└───────────┴───────────┴───────────┴───────────┴───┴───────────┴───────────┴───────────┴──────────┘"
      ]
     },
     "execution_count": 27,
     "metadata": {},
     "output_type": "execute_result"
    }
   ],
   "source": [
    "# view of bottom data entries\n",
    "df.tail()"
   ]
  },
  {
   "cell_type": "markdown",
   "metadata": {},
   "source": [
    "### Exploration to understand what we got on our hands "
   ]
  },
  {
   "cell_type": "code",
   "execution_count": 28,
   "metadata": {},
   "outputs": [
    {
     "data": {
      "text/plain": [
       "Schema([('transaction_id', Int64),\n",
       "        ('transaction_date', Date),\n",
       "        ('transaction_time', Datetime(time_unit='ms', time_zone=None)),\n",
       "        ('transaction_qty', Int64),\n",
       "        ('store_id', Int64),\n",
       "        ('store_location', String),\n",
       "        ('product_id', Int64),\n",
       "        ('unit_price', Float64),\n",
       "        ('product_category', String),\n",
       "        ('product_type', String),\n",
       "        ('product_detail', String)])"
      ]
     },
     "execution_count": 28,
     "metadata": {},
     "output_type": "execute_result"
    }
   ],
   "source": [
    "# lets see all the column names and the data types in them \n",
    "df.schema"
   ]
  },
  {
   "cell_type": "code",
   "execution_count": 29,
   "metadata": {},
   "outputs": [
    {
     "data": {
      "text/plain": [
       "149116"
      ]
     },
     "execution_count": 29,
     "metadata": {},
     "output_type": "execute_result"
    }
   ],
   "source": [
    "# how many transactions are we dealing with ?\n",
    "df.unique().height "
   ]
  },
  {
   "cell_type": "code",
   "execution_count": 30,
   "metadata": {},
   "outputs": [],
   "source": [
    "# i need to make some calculations on these columns \n",
    "\n",
    "coffee = df.with_columns(\n",
    "    (col(\"transaction_qty\") * col(\"unit_price\")).alias(\"Revenue\"),\n",
    "    col(\"transaction_date\").dt.strftime(\"%b\").alias(\"Month_name\"),\n",
    "    col(\"transaction_date\").dt.month().alias(\"Month_num\"),\n",
    "    col(\"transaction_date\").dt.strftime(\"%a\").alias(\"week_day\"),\n",
    "    col(\"transaction_date\").dt.weekday().alias(\"week_day_num\"),\n",
    "    col(\"transaction_time\").dt.hour().alias(\"hour_of_day\"),\n",
    "\n",
    ").sort(\"Month_num\")"
   ]
  },
  {
   "cell_type": "code",
   "execution_count": 31,
   "metadata": {},
   "outputs": [
    {
     "data": {
      "text/html": [
       "<div><style>\n",
       ".dataframe > thead > tr,\n",
       ".dataframe > tbody > tr {\n",
       "  text-align: right;\n",
       "  white-space: pre-wrap;\n",
       "}\n",
       "</style>\n",
       "<small>shape: (5, 17)</small><table border=\"1\" class=\"dataframe\"><thead><tr><th>transaction_id</th><th>transaction_date</th><th>transaction_time</th><th>transaction_qty</th><th>store_id</th><th>store_location</th><th>product_id</th><th>unit_price</th><th>product_category</th><th>product_type</th><th>product_detail</th><th>Revenue</th><th>Month_name</th><th>Month_num</th><th>week_day</th><th>week_day_num</th><th>hour_of_day</th></tr><tr><td>i64</td><td>date</td><td>datetime[ms]</td><td>i64</td><td>i64</td><td>str</td><td>i64</td><td>f64</td><td>str</td><td>str</td><td>str</td><td>f64</td><td>str</td><td>i8</td><td>str</td><td>i8</td><td>i8</td></tr></thead><tbody><tr><td>1</td><td>2023-01-01</td><td>1899-12-31 07:06:11</td><td>2</td><td>5</td><td>&quot;Lower Manhattan&quot;</td><td>32</td><td>3.0</td><td>&quot;Coffee&quot;</td><td>&quot;Gourmet brewed coffee&quot;</td><td>&quot;Ethiopia Rg&quot;</td><td>6.0</td><td>&quot;Jan&quot;</td><td>1</td><td>&quot;Sun&quot;</td><td>7</td><td>7</td></tr><tr><td>2</td><td>2023-01-01</td><td>1899-12-31 07:08:56</td><td>2</td><td>5</td><td>&quot;Lower Manhattan&quot;</td><td>57</td><td>3.1</td><td>&quot;Tea&quot;</td><td>&quot;Brewed Chai tea&quot;</td><td>&quot;Spicy Eye Opener Chai Lg&quot;</td><td>6.2</td><td>&quot;Jan&quot;</td><td>1</td><td>&quot;Sun&quot;</td><td>7</td><td>7</td></tr><tr><td>3</td><td>2023-01-01</td><td>1899-12-31 07:14:04</td><td>2</td><td>5</td><td>&quot;Lower Manhattan&quot;</td><td>59</td><td>4.5</td><td>&quot;Drinking Chocolate&quot;</td><td>&quot;Hot chocolate&quot;</td><td>&quot;Dark chocolate Lg&quot;</td><td>9.0</td><td>&quot;Jan&quot;</td><td>1</td><td>&quot;Sun&quot;</td><td>7</td><td>7</td></tr><tr><td>4</td><td>2023-01-01</td><td>1899-12-31 07:20:24</td><td>1</td><td>5</td><td>&quot;Lower Manhattan&quot;</td><td>22</td><td>2.0</td><td>&quot;Coffee&quot;</td><td>&quot;Drip coffee&quot;</td><td>&quot;Our Old Time Diner Blend Sm&quot;</td><td>2.0</td><td>&quot;Jan&quot;</td><td>1</td><td>&quot;Sun&quot;</td><td>7</td><td>7</td></tr><tr><td>5</td><td>2023-01-01</td><td>1899-12-31 07:22:41</td><td>2</td><td>5</td><td>&quot;Lower Manhattan&quot;</td><td>57</td><td>3.1</td><td>&quot;Tea&quot;</td><td>&quot;Brewed Chai tea&quot;</td><td>&quot;Spicy Eye Opener Chai Lg&quot;</td><td>6.2</td><td>&quot;Jan&quot;</td><td>1</td><td>&quot;Sun&quot;</td><td>7</td><td>7</td></tr></tbody></table></div>"
      ],
      "text/plain": [
       "shape: (5, 17)\n",
       "┌───────────┬───────────┬───────────┬───────────┬───┬───────────┬──────────┬───────────┬───────────┐\n",
       "│ transacti ┆ transacti ┆ transacti ┆ transacti ┆ … ┆ Month_num ┆ week_day ┆ week_day_ ┆ hour_of_d │\n",
       "│ on_id     ┆ on_date   ┆ on_time   ┆ on_qty    ┆   ┆ ---       ┆ ---      ┆ num       ┆ ay        │\n",
       "│ ---       ┆ ---       ┆ ---       ┆ ---       ┆   ┆ i8        ┆ str      ┆ ---       ┆ ---       │\n",
       "│ i64       ┆ date      ┆ datetime[ ┆ i64       ┆   ┆           ┆          ┆ i8        ┆ i8        │\n",
       "│           ┆           ┆ ms]       ┆           ┆   ┆           ┆          ┆           ┆           │\n",
       "╞═══════════╪═══════════╪═══════════╪═══════════╪═══╪═══════════╪══════════╪═══════════╪═══════════╡\n",
       "│ 1         ┆ 2023-01-0 ┆ 1899-12-3 ┆ 2         ┆ … ┆ 1         ┆ Sun      ┆ 7         ┆ 7         │\n",
       "│           ┆ 1         ┆ 1         ┆           ┆   ┆           ┆          ┆           ┆           │\n",
       "│           ┆           ┆ 07:06:11  ┆           ┆   ┆           ┆          ┆           ┆           │\n",
       "│ 2         ┆ 2023-01-0 ┆ 1899-12-3 ┆ 2         ┆ … ┆ 1         ┆ Sun      ┆ 7         ┆ 7         │\n",
       "│           ┆ 1         ┆ 1         ┆           ┆   ┆           ┆          ┆           ┆           │\n",
       "│           ┆           ┆ 07:08:56  ┆           ┆   ┆           ┆          ┆           ┆           │\n",
       "│ 3         ┆ 2023-01-0 ┆ 1899-12-3 ┆ 2         ┆ … ┆ 1         ┆ Sun      ┆ 7         ┆ 7         │\n",
       "│           ┆ 1         ┆ 1         ┆           ┆   ┆           ┆          ┆           ┆           │\n",
       "│           ┆           ┆ 07:14:04  ┆           ┆   ┆           ┆          ┆           ┆           │\n",
       "│ 4         ┆ 2023-01-0 ┆ 1899-12-3 ┆ 1         ┆ … ┆ 1         ┆ Sun      ┆ 7         ┆ 7         │\n",
       "│           ┆ 1         ┆ 1         ┆           ┆   ┆           ┆          ┆           ┆           │\n",
       "│           ┆           ┆ 07:20:24  ┆           ┆   ┆           ┆          ┆           ┆           │\n",
       "│ 5         ┆ 2023-01-0 ┆ 1899-12-3 ┆ 2         ┆ … ┆ 1         ┆ Sun      ┆ 7         ┆ 7         │\n",
       "│           ┆ 1         ┆ 1         ┆           ┆   ┆           ┆          ┆           ┆           │\n",
       "│           ┆           ┆ 07:22:41  ┆           ┆   ┆           ┆          ┆           ┆           │\n",
       "└───────────┴───────────┴───────────┴───────────┴───┴───────────┴──────────┴───────────┴───────────┘"
      ]
     },
     "execution_count": 31,
     "metadata": {},
     "output_type": "execute_result"
    }
   ],
   "source": [
    "# viewing the first 2 rows\n",
    "coffee.head()"
   ]
  },
  {
   "cell_type": "code",
   "execution_count": 32,
   "metadata": {},
   "outputs": [
    {
     "data": {
      "text/html": [
       "<div><style>\n",
       ".dataframe > thead > tr,\n",
       ".dataframe > tbody > tr {\n",
       "  text-align: right;\n",
       "  white-space: pre-wrap;\n",
       "}\n",
       "</style>\n",
       "<small>shape: (6, 4)</small><table border=\"1\" class=\"dataframe\"><thead><tr><th>Month_name</th><th>Monthly_Transactions</th><th>Monthly_Revenue</th><th>Monthly_mean_Qty</th></tr><tr><td>str</td><td>u32</td><td>f64</td><td>f64</td></tr></thead><tbody><tr><td>&quot;Jan&quot;</td><td>17314</td><td>81677.74</td><td>1.43641</td></tr><tr><td>&quot;Feb&quot;</td><td>16359</td><td>76145.19</td><td>1.439575</td></tr><tr><td>&quot;Mar&quot;</td><td>21229</td><td>98834.68</td><td>1.432286</td></tr><tr><td>&quot;Apr&quot;</td><td>25335</td><td>118941.08</td><td>1.439471</td></tr><tr><td>&quot;May&quot;</td><td>33527</td><td>156727.76</td><td>1.438632</td></tr><tr><td>&quot;Jun&quot;</td><td>35352</td><td>166485.88</td><td>1.440993</td></tr></tbody></table></div>"
      ],
      "text/plain": [
       "shape: (6, 4)\n",
       "┌────────────┬──────────────────────┬─────────────────┬──────────────────┐\n",
       "│ Month_name ┆ Monthly_Transactions ┆ Monthly_Revenue ┆ Monthly_mean_Qty │\n",
       "│ ---        ┆ ---                  ┆ ---             ┆ ---              │\n",
       "│ str        ┆ u32                  ┆ f64             ┆ f64              │\n",
       "╞════════════╪══════════════════════╪═════════════════╪══════════════════╡\n",
       "│ Jan        ┆ 17314                ┆ 81677.74        ┆ 1.43641          │\n",
       "│ Feb        ┆ 16359                ┆ 76145.19        ┆ 1.439575         │\n",
       "│ Mar        ┆ 21229                ┆ 98834.68        ┆ 1.432286         │\n",
       "│ Apr        ┆ 25335                ┆ 118941.08       ┆ 1.439471         │\n",
       "│ May        ┆ 33527                ┆ 156727.76       ┆ 1.438632         │\n",
       "│ Jun        ┆ 35352                ┆ 166485.88       ┆ 1.440993         │\n",
       "└────────────┴──────────────────────┴─────────────────┴──────────────────┘"
      ]
     },
     "execution_count": 32,
     "metadata": {},
     "output_type": "execute_result"
    }
   ],
   "source": [
    "# what is the Revenue by month and number of transactions each month?\n",
    "\n",
    "coffee.group_by([\"Month_name\"],maintain_order=True).agg(\n",
    "    Monthly_Transactions = col(\"transaction_id\").count(),\n",
    "    Monthly_Revenue = col(\"Revenue\").sum(),\n",
    "    Monthly_mean_Qty = col(\"transaction_qty\").mean()\n",
    ")"
   ]
  },
  {
   "cell_type": "code",
   "execution_count": 33,
   "metadata": {},
   "outputs": [
    {
     "data": {
      "text/html": [
       "<div><style>\n",
       ".dataframe > thead > tr,\n",
       ".dataframe > tbody > tr {\n",
       "  text-align: right;\n",
       "  white-space: pre-wrap;\n",
       "}\n",
       "</style>\n",
       "<small>shape: (9, 3)</small><table border=\"1\" class=\"dataframe\"><thead><tr><th>product_category</th><th>Transactions_by_Product_cat</th><th>Total_Revenue</th></tr><tr><td>str</td><td>u32</td><td>f64</td></tr></thead><tbody><tr><td>&quot;Coffee&quot;</td><td>58416</td><td>269952.45</td></tr><tr><td>&quot;Tea&quot;</td><td>45449</td><td>196405.95</td></tr><tr><td>&quot;Bakery&quot;</td><td>22796</td><td>82315.64</td></tr><tr><td>&quot;Drinking Chocolate&quot;</td><td>11468</td><td>72416.0</td></tr><tr><td>&quot;Coffee beans&quot;</td><td>1753</td><td>40085.25</td></tr><tr><td>&quot;Branded&quot;</td><td>747</td><td>13607.0</td></tr><tr><td>&quot;Loose Tea&quot;</td><td>1210</td><td>11213.6</td></tr><tr><td>&quot;Flavours&quot;</td><td>6790</td><td>8408.8</td></tr><tr><td>&quot;Packaged Chocolate&quot;</td><td>487</td><td>4407.64</td></tr></tbody></table></div>"
      ],
      "text/plain": [
       "shape: (9, 3)\n",
       "┌────────────────────┬─────────────────────────────┬───────────────┐\n",
       "│ product_category   ┆ Transactions_by_Product_cat ┆ Total_Revenue │\n",
       "│ ---                ┆ ---                         ┆ ---           │\n",
       "│ str                ┆ u32                         ┆ f64           │\n",
       "╞════════════════════╪═════════════════════════════╪═══════════════╡\n",
       "│ Coffee             ┆ 58416                       ┆ 269952.45     │\n",
       "│ Tea                ┆ 45449                       ┆ 196405.95     │\n",
       "│ Bakery             ┆ 22796                       ┆ 82315.64      │\n",
       "│ Drinking Chocolate ┆ 11468                       ┆ 72416.0       │\n",
       "│ Coffee beans       ┆ 1753                        ┆ 40085.25      │\n",
       "│ Branded            ┆ 747                         ┆ 13607.0       │\n",
       "│ Loose Tea          ┆ 1210                        ┆ 11213.6       │\n",
       "│ Flavours           ┆ 6790                        ┆ 8408.8        │\n",
       "│ Packaged Chocolate ┆ 487                         ┆ 4407.64       │\n",
       "└────────────────────┴─────────────────────────────┴───────────────┘"
      ]
     },
     "execution_count": 33,
     "metadata": {},
     "output_type": "execute_result"
    }
   ],
   "source": [
    "# what are the standings of each product category in terms of revenue and transactions ?\n",
    "\n",
    "coffee.group_by([\"product_category\"],maintain_order=True).agg(\n",
    "    Transactions_by_Product_cat = col(\"transaction_id\").count(),\n",
    "    Total_Revenue = col(\"Revenue\").sum() \n",
    ").sort(\"Total_Revenue\",descending=True)"
   ]
  },
  {
   "cell_type": "code",
   "execution_count": 34,
   "metadata": {},
   "outputs": [
    {
     "data": {
      "text/html": [
       "<div><style>\n",
       ".dataframe > thead > tr,\n",
       ".dataframe > tbody > tr {\n",
       "  text-align: right;\n",
       "  white-space: pre-wrap;\n",
       "}\n",
       "</style>\n",
       "<small>shape: (3, 3)</small><table border=\"1\" class=\"dataframe\"><thead><tr><th>store_location</th><th>Transactions_by_store</th><th>Revenue_by_store</th></tr><tr><td>str</td><td>u32</td><td>f64</td></tr></thead><tbody><tr><td>&quot;Hell&#x27;s Kitchen&quot;</td><td>50735</td><td>236511.17</td></tr><tr><td>&quot;Astoria&quot;</td><td>50599</td><td>232243.91</td></tr><tr><td>&quot;Lower Manhattan&quot;</td><td>47782</td><td>230057.25</td></tr></tbody></table></div>"
      ],
      "text/plain": [
       "shape: (3, 3)\n",
       "┌─────────────────┬───────────────────────┬──────────────────┐\n",
       "│ store_location  ┆ Transactions_by_store ┆ Revenue_by_store │\n",
       "│ ---             ┆ ---                   ┆ ---              │\n",
       "│ str             ┆ u32                   ┆ f64              │\n",
       "╞═════════════════╪═══════════════════════╪══════════════════╡\n",
       "│ Hell's Kitchen  ┆ 50735                 ┆ 236511.17        │\n",
       "│ Astoria         ┆ 50599                 ┆ 232243.91        │\n",
       "│ Lower Manhattan ┆ 47782                 ┆ 230057.25        │\n",
       "└─────────────────┴───────────────────────┴──────────────────┘"
      ]
     },
     "execution_count": 34,
     "metadata": {},
     "output_type": "execute_result"
    }
   ],
   "source": [
    "# how are the Store locations doing in terms of Revenue and transactions?\n",
    "\n",
    "coffee.group_by([\"store_location\"],maintain_order=True).agg(\n",
    "    Transactions_by_store = col(\"transaction_id\").count(),\n",
    "    Revenue_by_store = col(\"Revenue\").sum() \n",
    ").sort(\"Transactions_by_store\",descending=True)"
   ]
  },
  {
   "cell_type": "code",
   "execution_count": 35,
   "metadata": {},
   "outputs": [
    {
     "data": {
      "text/html": [
       "<div><style>\n",
       ".dataframe > thead > tr,\n",
       ".dataframe > tbody > tr {\n",
       "  text-align: right;\n",
       "  white-space: pre-wrap;\n",
       "}\n",
       "</style>\n",
       "<small>shape: (7, 3)</small><table border=\"1\" class=\"dataframe\"><thead><tr><th>week_day</th><th>Transactions_by_weekday</th><th>Revenue_by_weekday</th></tr><tr><td>str</td><td>u32</td><td>f64</td></tr></thead><tbody><tr><td>&quot;Mon&quot;</td><td>21643</td><td>101677.28</td></tr><tr><td>&quot;Tue&quot;</td><td>21202</td><td>99455.94</td></tr><tr><td>&quot;Wed&quot;</td><td>21310</td><td>100313.54</td></tr><tr><td>&quot;Thu&quot;</td><td>21654</td><td>100767.78</td></tr><tr><td>&quot;Fri&quot;</td><td>21701</td><td>101373.0</td></tr><tr><td>&quot;Sat&quot;</td><td>20510</td><td>96894.48</td></tr><tr><td>&quot;Sun&quot;</td><td>21096</td><td>98330.31</td></tr></tbody></table></div>"
      ],
      "text/plain": [
       "shape: (7, 3)\n",
       "┌──────────┬─────────────────────────┬────────────────────┐\n",
       "│ week_day ┆ Transactions_by_weekday ┆ Revenue_by_weekday │\n",
       "│ ---      ┆ ---                     ┆ ---                │\n",
       "│ str      ┆ u32                     ┆ f64                │\n",
       "╞══════════╪═════════════════════════╪════════════════════╡\n",
       "│ Mon      ┆ 21643                   ┆ 101677.28          │\n",
       "│ Tue      ┆ 21202                   ┆ 99455.94           │\n",
       "│ Wed      ┆ 21310                   ┆ 100313.54          │\n",
       "│ Thu      ┆ 21654                   ┆ 100767.78          │\n",
       "│ Fri      ┆ 21701                   ┆ 101373.0           │\n",
       "│ Sat      ┆ 20510                   ┆ 96894.48           │\n",
       "│ Sun      ┆ 21096                   ┆ 98330.31           │\n",
       "└──────────┴─────────────────────────┴────────────────────┘"
      ]
     },
     "execution_count": 35,
     "metadata": {},
     "output_type": "execute_result"
    }
   ],
   "source": [
    "# what are the Transactions on a day to day count and in terms of Revenue ?\n",
    "\n",
    "coffee.group_by([\"week_day\", \"week_day_num\"]).agg(\n",
    "    Transactions_by_weekday = col(\"transaction_id\").count(),\n",
    "    Revenue_by_weekday = col(\"Revenue\").sum() \n",
    ").sort(\"week_day_num\").drop(\"week_day_num\")"
   ]
  },
  {
   "cell_type": "code",
   "execution_count": 36,
   "metadata": {},
   "outputs": [
    {
     "data": {
      "text/html": [
       "<div><style>\n",
       ".dataframe > thead > tr,\n",
       ".dataframe > tbody > tr {\n",
       "  text-align: right;\n",
       "  white-space: pre-wrap;\n",
       "}\n",
       "</style>\n",
       "<small>shape: (10, 3)</small><table border=\"1\" class=\"dataframe\"><thead><tr><th>hour_of_day</th><th>Transactions_by_hour</th><th>Revenue_by_hour</th></tr><tr><td>i8</td><td>u32</td><td>f64</td></tr></thead><tbody><tr><td>6</td><td>4594</td><td>21900.27</td></tr><tr><td>7</td><td>13428</td><td>63526.47</td></tr><tr><td>8</td><td>17654</td><td>82699.87</td></tr><tr><td>9</td><td>17764</td><td>85169.53</td></tr><tr><td>10</td><td>18545</td><td>88673.39</td></tr><tr><td>11</td><td>9766</td><td>46319.14</td></tr><tr><td>12</td><td>8708</td><td>40192.79</td></tr><tr><td>13</td><td>8714</td><td>40367.45</td></tr><tr><td>14</td><td>8933</td><td>41304.74</td></tr><tr><td>15</td><td>8979</td><td>41733.1</td></tr></tbody></table></div>"
      ],
      "text/plain": [
       "shape: (10, 3)\n",
       "┌─────────────┬──────────────────────┬─────────────────┐\n",
       "│ hour_of_day ┆ Transactions_by_hour ┆ Revenue_by_hour │\n",
       "│ ---         ┆ ---                  ┆ ---             │\n",
       "│ i8          ┆ u32                  ┆ f64             │\n",
       "╞═════════════╪══════════════════════╪═════════════════╡\n",
       "│ 6           ┆ 4594                 ┆ 21900.27        │\n",
       "│ 7           ┆ 13428                ┆ 63526.47        │\n",
       "│ 8           ┆ 17654                ┆ 82699.87        │\n",
       "│ 9           ┆ 17764                ┆ 85169.53        │\n",
       "│ 10          ┆ 18545                ┆ 88673.39        │\n",
       "│ 11          ┆ 9766                 ┆ 46319.14        │\n",
       "│ 12          ┆ 8708                 ┆ 40192.79        │\n",
       "│ 13          ┆ 8714                 ┆ 40367.45        │\n",
       "│ 14          ┆ 8933                 ┆ 41304.74        │\n",
       "│ 15          ┆ 8979                 ┆ 41733.1         │\n",
       "└─────────────┴──────────────────────┴─────────────────┘"
      ]
     },
     "execution_count": 36,
     "metadata": {},
     "output_type": "execute_result"
    }
   ],
   "source": [
    "# what is the number of transactions in terms of hour of the day ?\n",
    "\n",
    "coffee.group_by([\"hour_of_day\"]).agg(\n",
    "    Transactions_by_hour = col(\"transaction_id\").count(),\n",
    "    Revenue_by_hour = col(\"Revenue\").sum() \n",
    ").sort(\"hour_of_day\").head(10)\n"
   ]
  },
  {
   "cell_type": "code",
   "execution_count": 37,
   "metadata": {},
   "outputs": [
    {
     "data": {
      "text/html": [
       "<div><style>\n",
       ".dataframe > thead > tr,\n",
       ".dataframe > tbody > tr {\n",
       "  text-align: right;\n",
       "  white-space: pre-wrap;\n",
       "}\n",
       "</style>\n",
       "<small>shape: (7, 3)</small><table border=\"1\" class=\"dataframe\"><thead><tr><th>week_day</th><th>Transactions_by_weekday</th><th>Revenue_by_weekday</th></tr><tr><td>str</td><td>u32</td><td>f64</td></tr></thead><tbody><tr><td>&quot;Mon&quot;</td><td>7136</td><td>34359.48</td></tr><tr><td>&quot;Tue&quot;</td><td>6698</td><td>32792.71</td></tr><tr><td>&quot;Wed&quot;</td><td>6767</td><td>32289.82</td></tr><tr><td>&quot;Thu&quot;</td><td>6920</td><td>33159.35</td></tr><tr><td>&quot;Fri&quot;</td><td>6860</td><td>33157.07</td></tr><tr><td>&quot;Sat&quot;</td><td>6722</td><td>32449.32</td></tr><tr><td>&quot;Sun&quot;</td><td>6679</td><td>31849.5</td></tr></tbody></table></div>"
      ],
      "text/plain": [
       "shape: (7, 3)\n",
       "┌──────────┬─────────────────────────┬────────────────────┐\n",
       "│ week_day ┆ Transactions_by_weekday ┆ Revenue_by_weekday │\n",
       "│ ---      ┆ ---                     ┆ ---                │\n",
       "│ str      ┆ u32                     ┆ f64                │\n",
       "╞══════════╪═════════════════════════╪════════════════════╡\n",
       "│ Mon      ┆ 7136                    ┆ 34359.48           │\n",
       "│ Tue      ┆ 6698                    ┆ 32792.71           │\n",
       "│ Wed      ┆ 6767                    ┆ 32289.82           │\n",
       "│ Thu      ┆ 6920                    ┆ 33159.35           │\n",
       "│ Fri      ┆ 6860                    ┆ 33157.07           │\n",
       "│ Sat      ┆ 6722                    ┆ 32449.32           │\n",
       "│ Sun      ┆ 6679                    ┆ 31849.5            │\n",
       "└──────────┴─────────────────────────┴────────────────────┘"
      ]
     },
     "execution_count": 37,
     "metadata": {},
     "output_type": "execute_result"
    }
   ],
   "source": [
    "# why is Lower Manhattan having lower revenue ?\n",
    "Man_manhattan = coffee.filter(\n",
    "    col(\"store_location\")==\"Lower Manhattan\"\n",
    ")\n",
    "\n",
    "# manhattan by day\n",
    "Man_manhattan.group_by([\"week_day\", \"week_day_num\"]).agg(\n",
    "    Transactions_by_weekday = col(\"transaction_id\").count(),\n",
    "    Revenue_by_weekday = col(\"Revenue\").sum() \n",
    ").sort(\"week_day_num\").drop(\"week_day_num\")\n"
   ]
  }
 ],
 "metadata": {
  "kernelspec": {
   "display_name": "Python 3",
   "language": "python",
   "name": "python3"
  },
  "language_info": {
   "codemirror_mode": {
    "name": "ipython",
    "version": 3
   },
   "file_extension": ".py",
   "mimetype": "text/x-python",
   "name": "python",
   "nbconvert_exporter": "python",
   "pygments_lexer": "ipython3",
   "version": "3.12.7"
  }
 },
 "nbformat": 4,
 "nbformat_minor": 2
}
